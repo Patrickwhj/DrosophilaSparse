{
 "cells": [
  {
   "cell_type": "markdown",
   "metadata": {},
   "source": [
    "# Neuron circuits for Dorsophila\n",
    "Tielin Zhang, 2019-6-13\n",
    "\n",
    "Contains three groups of neurons:\n",
    "\n",
    "(1)For information input group;\n",
    "\n",
    "(2)For the inhibitory tuning group;\n",
    "\n",
    "(3)for informatin output group;"
   ]
  },
  {
   "cell_type": "code",
   "execution_count": 1,
   "metadata": {},
   "outputs": [],
   "source": [
    "from brian2 import *\n",
    "import random\n",
    "\n",
    "%matplotlib inline\n",
    "apl_enable = True"
   ]
  },
  {
   "cell_type": "code",
   "execution_count": 2,
   "metadata": {},
   "outputs": [
    {
     "data": {
      "text/latex": [
       "$50.0\\,\\mathrm{k}\\,\\mathrm{V}$"
      ],
      "text/plain": [
       "50. * kvolt"
      ]
     },
     "execution_count": 2,
     "metadata": {},
     "output_type": "execute_result"
    }
   ],
   "source": [
    "20*volt\n",
    "1000*amp\n",
    "1e6*volt\n",
    "1000*namp\n",
    "10*mA*5*Mohm"
   ]
  },
  {
   "cell_type": "code",
   "execution_count": 3,
   "metadata": {},
   "outputs": [],
   "source": [
    "start_scope()"
   ]
  },
  {
   "cell_type": "markdown",
   "metadata": {},
   "source": [
    "### the possion input generator"
   ]
  },
  {
   "cell_type": "code",
   "execution_count": 4,
   "metadata": {},
   "outputs": [],
   "source": [
    "inputnum = 10\n",
    "Poisson = PoissonGroup(inputnum, 500*Hz)"
   ]
  },
  {
   "cell_type": "markdown",
   "metadata": {},
   "source": [
    "## PN Group (input, LIF model)\n",
    "\n",
    "A PN is modeled as the standard leaky integrate and fire (LIF) neuron. The membrane potential of a PN at time t is determined by the following differential equation, $\\frac{dV}{dt} = \\frac{(V0−V)}{\\tau}+ I$, where $\\tau$ is the membrane time constant and V0 is the resting potential. When the membrane potential of a PN exceeds the threshold value Vth, the PN emits a spike and the value of the membrane potential is reset to Vreset. After the spike emission, the PN enters an absolute refractory period that lasts for Vres. The membrane potential of a PN stays at Vres during the refractory period. The parameters in the leaky integrate-and-fire neuron model are set as follows: tau=5 ms,V0=−60mV,Vth=−45mV, Vreset=−80mV,and Vres =1 ms.\n",
    "\n",
    "Around 150-200 PN neurons, or 100 neurons ? which one?"
   ]
  },
  {
   "cell_type": "code",
   "execution_count": 5,
   "metadata": {},
   "outputs": [],
   "source": [
    "tau_pn = 5*ms\n",
    "V0_pn = -60*mV\n",
    "Vth_pn = -45*mV\n",
    "Vres_pn = -80*mV\n",
    "I_pn = 0*mV/ms\n",
    "eqs_pn = '''\n",
    "dv/dt = (V0_pn-v)/tau_pn + I_pn: volt\n",
    "'''\n",
    "G_pn = NeuronGroup(2, eqs_pn, threshold='v>Vth_pn', reset='v=Vres_pn', refractory=1*ms, method='linear') #method='Euler' linear\n",
    "G_pn.v = -60*mV # initial value"
   ]
  },
  {
   "cell_type": "code",
   "execution_count": 6,
   "metadata": {},
   "outputs": [],
   "source": [
    "debug = False\n",
    "if debug:\n",
    "    M_pn_stat = StateMonitor(G_pn, 'v', record=0)\n",
    "    M_pn_spk = SpikeMonitor(G_pn)\n",
    "    run(50*ms)\n",
    "    figure(figsize=(12,4))\n",
    "    subplot(121)\n",
    "    plot(M_pn_stat.t/ms, M_pn_stat.v[0])\n",
    "    xlabel('Time (ms)')\n",
    "    ylabel('v');\n",
    "    title('M_PN_V')\n",
    "    subplot(122)\n",
    "    plot(M_pn_spk.t/ms, M_pn_spk.i, '.k')\n",
    "    xlabel('Time (ms)')\n",
    "    ylabel('Neuron index');\n",
    "    title('M_PN_SPK')"
   ]
  },
  {
   "cell_type": "markdown",
   "metadata": {},
   "source": [
    "## KC Group (output, LIF model)\n",
    "\n",
    "Here we use the similar LIF model for simplification.\n",
    "\n",
    "Around 2500 KC neurons.\n"
   ]
  },
  {
   "cell_type": "code",
   "execution_count": 7,
   "metadata": {},
   "outputs": [],
   "source": [
    "tau_kc = 5*ms\n",
    "V0_kc = -60*mV\n",
    "Vth_kc = -45*mV\n",
    "Vres_kc = -80*mV\n",
    "eqs_kc = '''\n",
    "dv/dt = (V0_kc-v)/tau_kc : volt\n",
    "'''\n",
    "G_kc = NeuronGroup(10, eqs_kc, threshold='v>Vth_kc', reset='v=Vres_kc', refractory=1*ms, method='Euler') #method='Euler' linear\n",
    "G_kc.v = -60*mV # initial value"
   ]
  },
  {
   "cell_type": "code",
   "execution_count": 8,
   "metadata": {},
   "outputs": [],
   "source": [
    "debug = False\n",
    "if debug:\n",
    "    M_kc_stat = StateMonitor(G_kc, 'v', record=0)\n",
    "    M_kc_spk = SpikeMonitor(G_kc)\n",
    "    run(50*ms)\n",
    "    figure(figsize=(12,4))\n",
    "    subplot(121)\n",
    "    plot(M_kc_stat.t/ms, M_kc_stat.v[0])\n",
    "    xlabel('Time (ms)')\n",
    "    ylabel('v');\n",
    "    title('M_KC_V')\n",
    "    subplot(122)\n",
    "    plot(M_kc_spk.t/ms, M_kc_spk.i, '.k')\n",
    "    xlabel('Time (ms)')\n",
    "    ylabel('Neuron index');\n",
    "    title('M_KC_SPK')"
   ]
  },
  {
   "cell_type": "markdown",
   "metadata": {},
   "source": [
    "### APL Group (tuning inhibition, LIF model)"
   ]
  },
  {
   "cell_type": "code",
   "execution_count": 9,
   "metadata": {},
   "outputs": [],
   "source": [
    "tau_apl = 5*ms\n",
    "V0_apl = -60*mV  # attractors\n",
    "Vth_apl = -45*mV\n",
    "Vres_apl = -80*mV \n",
    "eqs_apl = '''\n",
    "dv/dt = (V0_apl-v)/tau_apl : volt\n",
    "'''\n",
    "G_apl = NeuronGroup(1, eqs_apl, threshold='v>Vth_apl', reset='v=Vres_apl', refractory=1*ms, method='Euler') #method='Euler' linear\n",
    "G_apl.v = -60*mV # initial value"
   ]
  },
  {
   "cell_type": "markdown",
   "metadata": {},
   "source": [
    "### Connection between input Possion to PN"
   ]
  },
  {
   "cell_type": "code",
   "execution_count": 10,
   "metadata": {},
   "outputs": [
    {
     "name": "stderr",
     "output_type": "stream",
     "text": [
      "WARNING    C:\\ProgramData\\Anaconda3\\lib\\site-packages\\Cython\\Compiler\\Main.py:367: FutureWarning: Cython directive 'language_level' not set, using 2 for now (Py2). This will change in a later release! File: C:\\Users\\Zhang\\.cython\\brian_extensions\\_cython_magic_36ef093112cd1b088f6c8d6bb9179d1a.pyx\n",
      "  tree = Parsing.p_module(s, pxd, full_module_name)\n",
      " [py.warnings]\n",
      "WARNING    Cannot use Cython, a test compilation failed: Microsoft Visual C++ 14.0 is required. Get it with \"Microsoft Visual C++ Build Tools\": https://visualstudio.microsoft.com/downloads/ (DistutilsPlatformError) [brian2.codegen.runtime.cython_rt.cython_rt.failed_compile_test]\n",
      "INFO       Cannot use compiled code, falling back to the numpy code generation target. Note that this will likely be slower than using compiled code. Set the code generation to numpy manually to avoid this message:\n",
      "prefs.codegen.target = \"numpy\" [brian2.devices.device.codegen_fallback]\n"
     ]
    }
   ],
   "source": [
    "S_p_pn = Synapses(Poisson, G_pn, 'w : volt', on_pre='v_post += w')\n",
    "S_p_pn.connect() # connect all-to-all\n",
    "S_p_pn.w = '5*mV'"
   ]
  },
  {
   "cell_type": "markdown",
   "metadata": {},
   "source": [
    "### Connection between PN to KC\n",
    "\n",
    "(1) PN->KC, each KC neuron accept mean 6 PN Axonal Terminal, \n",
    "\n",
    "(2) Big PN Axonal terminal to 20 KC neuron, \n",
    "\n",
    "(3) Small PN Axonal terminal to 8 KC neuron,\n",
    "\n",
    "You cannot fit both of these three conditions.!!"
   ]
  },
  {
   "cell_type": "code",
   "execution_count": 11,
   "metadata": {},
   "outputs": [],
   "source": [
    "S_pn_kc = Synapses(G_pn, G_kc, 'w : volt', on_pre='v_post += w')\n",
    "\n",
    "propertion = 0.5 # the big Pn proportion in source group\n",
    "bigPn = np.arange( 0, int(propertion*G_pn.N), 1) \n",
    "smallPn = np.arange( int(propertion*G_pn.N), G_pn.N, 1) \n",
    "\n",
    "arrayi = []\n",
    "arrayj = []\n",
    "\n",
    "for i in range(G_pn.N):\n",
    "    if i in bigPn:\n",
    "        ifrom = [i]*8\n",
    "        random.seed(1)\n",
    "        ito = [random.randint(0,G_kc.N-1) for _ in range(8)]\n",
    "    else:\n",
    "        ifrom = [i]*4\n",
    "        random.seed(1)\n",
    "        ito = [random.randint(0,G_kc.N-1) for _ in range(4)]\n",
    "    arrayi.extend(ifrom)\n",
    "    arrayj.extend(ito)\n",
    "# arrayi = [int(i) for i in arrayi]\n",
    "# arrayj = [int(j) for j in arrayj]\n",
    "S_pn_kc.connect(i=arrayi, j=arrayj)\n",
    "S_pn_kc.w = '5*mV'"
   ]
  },
  {
   "cell_type": "markdown",
   "metadata": {},
   "source": [
    "### Calculation: How many mean input numbers of the each KC gets."
   ]
  },
  {
   "cell_type": "code",
   "execution_count": 12,
   "metadata": {},
   "outputs": [
    {
     "name": "stdout",
     "output_type": "stream",
     "text": [
      "The mean inputs of KC neuron is : 1.2\n"
     ]
    }
   ],
   "source": [
    "print('The mean inputs of KC neuron is : '+ str(len(S_pn_kc.i)/G_kc.N))"
   ]
  },
  {
   "cell_type": "code",
   "execution_count": 13,
   "metadata": {},
   "outputs": [],
   "source": [
    "debug = False\n",
    "if debug:\n",
    "    M_pn = StateMonitor(G_pn, 'v', record=0)\n",
    "    M_kc = StateMonitor(G_kc, 'v', record=0)\n",
    "\n",
    "    run(50*ms)\n",
    "\n",
    "    figure()\n",
    "    subplot(121)\n",
    "    plot(M_pn.t/ms, M_pn.v[0])\n",
    "    xlabel('Time (ms)')\n",
    "    ylabel('v');\n",
    "    subplot(122)\n",
    "    plot(M_kc.t/ms, M_kc.v[0])\n",
    "    xlabel('Time (ms)')\n",
    "    ylabel('v');"
   ]
  },
  {
   "cell_type": "markdown",
   "metadata": {},
   "source": [
    "### Connection KC >> APL"
   ]
  },
  {
   "cell_type": "code",
   "execution_count": 14,
   "metadata": {},
   "outputs": [],
   "source": [
    "S_kc_apl = Synapses(G_kc, G_apl, 'w : volt', on_pre='v_post += w')\n",
    "S_kc_apl.connect() # connect all-to-all\n",
    "if apl_enable:\n",
    "    S_kc_apl.w = '5*mV'\n",
    "else:\n",
    "    S_kc_apl.w = '0*mV'"
   ]
  },
  {
   "cell_type": "markdown",
   "metadata": {},
   "source": [
    "### Connection APL >> KC"
   ]
  },
  {
   "cell_type": "code",
   "execution_count": 15,
   "metadata": {},
   "outputs": [],
   "source": [
    "S_apl_kc = Synapses(G_apl, G_kc, 'w : volt', on_pre='v_post += w')\n",
    "S_apl_kc.connect() # connect all-to-all\n",
    "if apl_enable:\n",
    "    S_apl_kc.w = '-1*mV'\n",
    "else:\n",
    "    S_apl_kc.w = '0*mV'\n",
    "        "
   ]
  },
  {
   "cell_type": "markdown",
   "metadata": {},
   "source": [
    "### Connection APL >> PN"
   ]
  },
  {
   "cell_type": "code",
   "execution_count": 16,
   "metadata": {},
   "outputs": [],
   "source": [
    "S_apl_pn = Synapses(G_apl, G_pn, 'w : volt', on_pre='v_post += w')\n",
    "S_apl_pn.connect() # connect all-to-all\n",
    "for j in range(G_pn.N):\n",
    "    if apl_enable:\n",
    "        if j in bigPn:\n",
    "            S_apl_pn.w[0,j] = '-20*mV'\n",
    "        else:\n",
    "            S_apl_pn.w[0,j] = '-10*mV'\n",
    "    else:\n",
    "        S_apl_pn.w[0,j] = '0*mV'"
   ]
  },
  {
   "cell_type": "code",
   "execution_count": 17,
   "metadata": {
    "scrolled": false
   },
   "outputs": [
    {
     "data": {
      "image/png": "[encoded data removed]",
      "text/plain": [
       "<Figure size 1152x288 with 3 Axes>"
      ]
     },
     "metadata": {
      "needs_background": "light"
     },
     "output_type": "display_data"
    }
   ],
   "source": [
    "debug = True\n",
    "if debug:\n",
    "    M_pn = SpikeMonitor(G_pn)\n",
    "    M_kc = SpikeMonitor(G_kc)\n",
    "    M_apl = StateMonitor(G_apl, 'v', record=0)\n",
    "    duration = 50*ms\n",
    "    run(duration)\n",
    "\n",
    "    figure(figsize=(16,4))\n",
    "    subplot(131)\n",
    "    plot(M_pn.t/ms, M_pn.i, '.k')\n",
    "    xlabel('Time (ms)')\n",
    "    ylabel('Neuron index');\n",
    "    ylim(-1, G_pn.N)\n",
    "    title('M_PN')\n",
    "    subplot(132)\n",
    "    plot(M_kc.t/ms, M_kc.i, '.k')\n",
    "    xlabel('Time (ms)')\n",
    "    ylabel('Neuron index');\n",
    "    ylim(-1, G_kc.N)\n",
    "    title('M_KC')\n",
    "    subplot(133)\n",
    "    plot(M_apl.t/ms, M_apl.v[0])\n",
    "    xlabel('Time (ms)')\n",
    "    ylabel('v');\n",
    "    title('M_APL')"
   ]
  },
  {
   "cell_type": "code",
   "execution_count": 18,
   "metadata": {
    "scrolled": false
   },
   "outputs": [
    {
     "data": {
      "image/png": "[encoded data removed]",
      "text/plain": [
       "<Figure size 1152x288 with 3 Axes>"
      ]
     },
     "metadata": {
      "needs_background": "light"
     },
     "output_type": "display_data"
    }
   ],
   "source": [
    "debug = True\n",
    "if debug:\n",
    "    figure(figsize=(16,4))\n",
    "    subplot(131)\n",
    "    plot(M_pn.count/duration)\n",
    "    xlabel('Neuron')\n",
    "    ylabel('Neuron Frequency');\n",
    "    # ylim(-1, G_pn.N)\n",
    "    title('M_PN')\n",
    "    subplot(132)\n",
    "    plot(M_kc.count/duration)\n",
    "    xlabel('Neuron')\n",
    "    ylabel('Neuron Frequency');\n",
    "    # ylim(-1, G_kc.N)\n",
    "    title('M_KC')\n",
    "    subplot(133)\n",
    "    plot(M_apl.t/ms, M_apl.v[0])\n",
    "    xlabel('Time (ms)')\n",
    "    ylabel('v');\n",
    "    title('M_APL')"
   ]
  },
  {
   "cell_type": "code",
   "execution_count": null,
   "metadata": {},
   "outputs": [],
   "source": []
  }
 ],
 "metadata": {
  "kernelspec": {
   "display_name": "Python 3",
   "language": "python",
   "name": "python3"
  },
  "language_info": {
   "codemirror_mode": {
    "name": "ipython",
    "version": 3
   },
   "file_extension": ".py",
   "mimetype": "text/x-python",
   "name": "python",
   "nbconvert_exporter": "python",
   "pygments_lexer": "ipython3",
   "version": "3.7.3"
  }
 },
 "nbformat": 4,
 "nbformat_minor": 2
}
