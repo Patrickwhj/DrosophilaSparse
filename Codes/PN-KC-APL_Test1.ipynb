{
 "cells": [
  {
   "cell_type": "code",
   "execution_count": 82,
   "metadata": {},
   "outputs": [],
   "source": [
    "from brian2 import *\n",
    "import random\n",
    "%matplotlib inline\n",
    "apl_enable = False"
   ]
  },
  {
   "cell_type": "code",
   "execution_count": 83,
   "metadata": {},
   "outputs": [],
   "source": [
    "start_scope()"
   ]
  },
  {
   "cell_type": "code",
   "execution_count": 84,
   "metadata": {},
   "outputs": [],
   "source": [
    "#PN Terminal Identity\n",
    "tau_pn = 5*ms\n",
    "V0_pn = -60*mV\n",
    "Vth_pn = -45*mV\n",
    "Vres_pn = -80*mV\n",
    "I_pn = 0*mV/ms\n",
    "eqs_pn = '''\n",
    "dv/dt = (V0_pn-v)/tau_pn + I_pn: volt\n",
    "'''\n",
    "G_pn = NeuronGroup(1440, eqs_pn, threshold='v>Vth_pn', reset='v=Vres_pn', refractory=1*ms, method='linear') #method='Euler' linear\n",
    "G_pn.v = -80*mV # initial value(如何确定的？多大程度上影响结果？)"
   ]
  },
  {
   "cell_type": "code",
   "execution_count": 85,
   "metadata": {},
   "outputs": [],
   "source": [
    "debug = False\n",
    "if debug:\n",
    "    M_pn_stat = StateMonitor(G_pn, 'v', record=0)\n",
    "    M_pn_spk = SpikeMonitor(G_pn)\n",
    "    run(50*ms)\n",
    "    figure(figsize=(12,4))\n",
    "    subplot(121)\n",
    "    plot(M_pn_stat.t/ms, M_pn_stat.v[0])\n",
    "    xlabel('Time (ms)')\n",
    "    ylabel('v');\n",
    "    title('M_PN_V')\n",
    "    subplot(122)\n",
    "    plot(M_pn_spk.t/ms, M_pn_spk.i, '.k')\n",
    "    xlabel('Time (ms)')\n",
    "    ylabel('Neuron index');\n",
    "    title('M_PN_SPK')"
   ]
  },
  {
   "cell_type": "code",
   "execution_count": 86,
   "metadata": {},
   "outputs": [],
   "source": [
    "#KC Ientity\n",
    "tau_kc = 5*ms\n",
    "V0_kc = -55*mV\n",
    "Vth_kc = -36*mV\n",
    "Vres_kc = -60*mV\n",
    "eqs_kc = '''\n",
    "dv/dt = (V0_kc-v)/tau_kc : volt\n",
    "'''\n",
    "G_kc = NeuronGroup(2500, eqs_kc, threshold='v>Vth_kc', reset='v=Vres_kc', refractory=1*ms, method='Euler') #method='Euler' linear\n",
    "G_kc.v = -80*mV # initial value"
   ]
  },
  {
   "cell_type": "code",
   "execution_count": 87,
   "metadata": {},
   "outputs": [],
   "source": [
    "debug = False\n",
    "if debug:\n",
    "    M_kc_stat = StateMonitor(G_kc, 'v', record=0)\n",
    "    M_kc_spk = SpikeMonitor(G_kc)\n",
    "    run(50*ms)\n",
    "    figure(figsize=(12,4))\n",
    "    subplot(121)\n",
    "    plot(M_kc_stat.t/ms, M_kc_stat.v[0])\n",
    "    xlabel('Time (ms)')\n",
    "    ylabel('v');\n",
    "    title('M_KC_V')\n",
    "    subplot(122)\n",
    "    plot(M_kc_spk.t/ms, M_kc_spk.i, '.k')\n",
    "    xlabel('Time (ms)')\n",
    "    ylabel('Neuron index');\n",
    "    title('M_KC_SPK')"
   ]
  },
  {
   "cell_type": "code",
   "execution_count": null,
   "metadata": {},
   "outputs": [],
   "source": [
    "#APL Identity\n",
    "C = 0.1*nF #APL 电容\n",
    "g_leak = 0.2*uS #KC对APL的突触电导\n",
    "V_leak = -60*mV \n",
    "g_aplkc = 50*nS #APL对AKC的突触电导\n",
    "V_rev = -90*mV #Reversal Potential\n",
    "V_mid = -40*mV #Activation curve parameters\n",
    "V_slope = 5*mV #Activation curve parameters\n",
    "tau_apl = 4*ms\n",
    "eqs_apl = '''\n",
    "dv/dt =（I_syn - g_leak(V - V_leak)）/ C : volt\n",
    "I_syn = g_aplkc * S*(V-V_rev) : amp\n",
    "dS/dt = (S_inf - S)/tau_apl : 1\n",
    "S_inf = 1/(1+exp((V_mid - Vpre)/V_slope)): 1\n",
    "\n",
    "'''\n",
    "G_apl = NeuronGroup(1, eqs_apl,) #method='Euler' linearS_pn_kc = Synapses(G_pn, G_kc, 'w : volt', on_pre='v_post += w')"
   ]
  },
  {
   "cell_type": "code",
   "execution_count": 88,
   "metadata": {},
   "outputs": [],
   "source": [
    "tau_apl = 5*ms\n",
    "V0_apl = -60*mV  # attractors\n",
    "Vth_apl = -45*mV\n",
    "Vres_apl = -80*mV \n",
    "eqs_apl = '''\n",
    "dv/dt = (V0_apl-v)/tau_apl : volt\n",
    "'''\n",
    "G_apl = NeuronGroup(1, eqs_apl, threshold='v>Vth_apl', reset='v=Vres_apl', refractory=1*ms, method='Euler') #method='Euler' linear\n",
    "G_apl.v = -30*mV # initial value"
   ]
  },
  {
   "cell_type": "code",
   "execution_count": 89,
   "metadata": {},
   "outputs": [],
   "source": [
    "#PN-KC Connect Pattern\n",
    "S_pn_kc = Synapses(G_pn, G_kc, 'w : volt', on_pre='v_post += w')\n",
    "propertion = 0.6 # the big Pn proportion in source group\n",
    "bigPn = np.arange( 0, int(propertion*G_pn.N), 1) \n",
    "smallPn = np.arange( int(propertion*G_pn.N), G_pn.N, 1) \n",
    "\n",
    "arrayi = []\n",
    "arrayj = []\n",
    "\n",
    "for i in range(G_pn.N):\n",
    "    if i in bigPn:\n",
    "        ifrom = [i]*15\n",
    "        ito = [random.randint(0,G_kc.N-1) for _ in range(15)]\n",
    "    else:\n",
    "        ifrom = [i]*12\n",
    "        ito = [random.randint(0,G_kc.N-1) for _ in range(12)]\n",
    "    arrayi.extend(ifrom)\n",
    "    arrayj.extend(ito)\n",
    "# arrayi = [int(i) for i in arrayi]\n",
    "# arrayj = [int(j) for j in arrayj]\n",
    "S_pn_kc.connect(i=arrayi, j=arrayj)\n",
    "S_pn_kc.w = '10*mV’"
   ]
  },
  {
   "cell_type": "code",
   "execution_count": 90,
   "metadata": {},
   "outputs": [
    {
     "name": "stdout",
     "output_type": "stream",
     "text": [
      "The mean inputs of KC neuron is:7.9488\n"
     ]
    }
   ],
   "source": [
    "print('The mean inputs of KC neuron is:'+str(len(S_pn_kc.i)/G_kc.N))"
   ]
  },
  {
   "cell_type": "code",
   "execution_count": 91,
   "metadata": {},
   "outputs": [],
   "source": [
    "debug = False\n",
    "if debug:\n",
    "    M_pn = StateMonitor(G_pn, 'v', record=0)\n",
    "    M_kc = StateMonitor(G_kc, 'v', record=0)\n",
    "\n",
    "    run(50*ms)\n",
    "\n",
    "    figure()\n",
    "    subplot(121)\n",
    "    plot(M_pn.t/ms, M_pn.v[0])\n",
    "    xlabel('Time (ms)')\n",
    "    ylabel('v');\n",
    "    subplot(122)\n",
    "    plot(M_kc.t/ms, M_kc.v[0])\n",
    "    xlabel('Time (ms)')\n",
    "    ylabel('v');"
   ]
  },
  {
   "cell_type": "code",
   "execution_count": 92,
   "metadata": {},
   "outputs": [],
   "source": [
    "#KC TO apl Synapse\n",
    "S_kc_apl = Synapses(G_kc, G_apl, 'w : volt', on_pre='v_post += w')\n",
    "S_kc_apl.connect() # connect all-to-all\n",
    "S_kc_apl.w = '2*mV'"
   ]
  },
  {
   "cell_type": "code",
   "execution_count": 93,
   "metadata": {},
   "outputs": [],
   "source": [
    "#apl to KC Synapse\n",
    "S_apl_kc = Synapses(G_apl, G_kc, 'w : volt', on_pre='v_post -= w')\n",
    "S_apl_kc.connect() # connect all-to-all\n",
    "if apl_enable:\n",
    "    S_apl_kc.w = '2*mV'\n",
    "else:\n",
    "    S_apl_kc.w = '0*mV'"
   ]
  },
  {
   "cell_type": "code",
   "execution_count": 94,
   "metadata": {},
   "outputs": [],
   "source": [
    "#apl to PN Terminal synapse\n",
    "S_apl_pn = Synapses(G_apl, G_pn, 'w : volt', on_pre='v_post -= w')\n",
    "S_apl_pn.connect() # connect all-to-all\n",
    "for j in range(G_pn.N):\n",
    "    if apl_enable:\n",
    "        if j in bigPn:\n",
    "            S_apl_pn.w[0,j] = '5*mV'\n",
    "        else:\n",
    "            S_apl_pn.w[0,j] = '1*mV'\n",
    "    else:\n",
    "        S_apl_pn.w[0,j] = '0*mV'"
   ]
  },
  {
   "cell_type": "code",
   "execution_count": 95,
   "metadata": {},
   "outputs": [
    {
     "data": {
      "image/png": "[encoded data removed]",
      "text/plain": [
       "<Figure size 1152x288 with 3 Axes>"
      ]
     },
     "metadata": {
      "needs_background": "light"
     },
     "output_type": "display_data"
    }
   ],
   "source": [
    "debug = True\n",
    "if debug:\n",
    "    M_pn = SpikeMonitor(G_pn)\n",
    "    M_kc = SpikeMonitor(G_kc)\n",
    "    M_apl = StateMonitor(G_kc, 'v', record=0)\n",
    "\n",
    "    run(50*ms)\n",
    "\n",
    "    figure(figsize=(16,4))\n",
    "    subplot(131)\n",
    "    plot(M_pn.t/ms, M_pn.i, '.k')\n",
    "    xlabel('Time (ms)')\n",
    "    ylabel('Neuron index');\n",
    "    ylim(-1, G_pn.N)\n",
    "    title('M_PN')\n",
    "    subplot(132)\n",
    "    plot(M_kc.t/ms, M_kc.i, '.k')\n",
    "    xlabel('Time (ms)')\n",
    "    ylabel('Neuron index');\n",
    "    ylim(-1, G_kc.N)\n",
    "    title('M_KC')\n",
    "    subplot(133)\n",
    "    plot(M_apl.t/ms, M_apl.v[0])\n",
    "    xlabel('Time (ms)')\n",
    "    ylabel('v');\n",
    "    title('M_APL')"
   ]
  },
  {
   "cell_type": "code",
   "execution_count": 96,
   "metadata": {},
   "outputs": [
    {
     "ename": "NameError",
     "evalue": "name 'duration' is not defined",
     "output_type": "error",
     "traceback": [
      "\u001b[1;31m---------------------------------------------------------------------------\u001b[0m",
      "\u001b[1;31mNameError\u001b[0m                                 Traceback (most recent call last)",
      "\u001b[1;32m<ipython-input-96-204b930e6670>\u001b[0m in \u001b[0;36m<module>\u001b[1;34m\u001b[0m\n\u001b[0;32m      3\u001b[0m     \u001b[0mfigure\u001b[0m\u001b[1;33m(\u001b[0m\u001b[0mfigsize\u001b[0m\u001b[1;33m=\u001b[0m\u001b[1;33m(\u001b[0m\u001b[1;36m16\u001b[0m\u001b[1;33m,\u001b[0m\u001b[1;36m4\u001b[0m\u001b[1;33m)\u001b[0m\u001b[1;33m)\u001b[0m\u001b[1;33m\u001b[0m\u001b[1;33m\u001b[0m\u001b[0m\n\u001b[0;32m      4\u001b[0m     \u001b[0msubplot\u001b[0m\u001b[1;33m(\u001b[0m\u001b[1;36m131\u001b[0m\u001b[1;33m)\u001b[0m\u001b[1;33m\u001b[0m\u001b[1;33m\u001b[0m\u001b[0m\n\u001b[1;32m----> 5\u001b[1;33m     \u001b[0mplot\u001b[0m\u001b[1;33m(\u001b[0m\u001b[0mM_pn\u001b[0m\u001b[1;33m.\u001b[0m\u001b[0mcount\u001b[0m\u001b[1;33m/\u001b[0m\u001b[0mduration\u001b[0m\u001b[1;33m)\u001b[0m\u001b[1;33m\u001b[0m\u001b[1;33m\u001b[0m\u001b[0m\n\u001b[0m\u001b[0;32m      6\u001b[0m     \u001b[0mxlabel\u001b[0m\u001b[1;33m(\u001b[0m\u001b[1;34m'Neuron'\u001b[0m\u001b[1;33m)\u001b[0m\u001b[1;33m\u001b[0m\u001b[1;33m\u001b[0m\u001b[0m\n\u001b[0;32m      7\u001b[0m     \u001b[0mylabel\u001b[0m\u001b[1;33m(\u001b[0m\u001b[1;34m'Neuron Frequency'\u001b[0m\u001b[1;33m)\u001b[0m\u001b[1;33m;\u001b[0m\u001b[1;33m\u001b[0m\u001b[1;33m\u001b[0m\u001b[0m\n",
      "\u001b[1;31mNameError\u001b[0m: name 'duration' is not defined"
     ]
    },
    {
     "data": {
      "image/png": "[encoded data removed]",
      "text/plain": [
       "<Figure size 1152x288 with 1 Axes>"
      ]
     },
     "metadata": {
      "needs_background": "light"
     },
     "output_type": "display_data"
    }
   ],
   "source": [
    "debug = True\n",
    "if debug:\n",
    "    figure(figsize=(16,4))\n",
    "    subplot(131)\n",
    "    plot(M_pn.count/duration)\n",
    "    xlabel('Neuron')\n",
    "    ylabel('Neuron Frequency');\n",
    "    # ylim(-1, G_pn.N)\n",
    "    title('M_PN')\n",
    "    subplot(132)\n",
    "    plot(M_kc.count/duration)\n",
    "    xlabel('Neuron')\n",
    "    ylabel('Neuron Frequency');\n",
    "    # ylim(-1, G_kc.N)\n",
    "    title('M_KC')\n",
    "    subplot(133)\n",
    "    plot(M_apl.t/ms, M_apl.v[0])\n",
    "    xlabel('Time (ms)')\n",
    "    ylabel('v');\n",
    "    title('M_APL')"
   ]
  }
 ],
 "metadata": {
  "kernelspec": {
   "display_name": "Python 3",
   "language": "python",
   "name": "python3"
  },
  "language_info": {
   "codemirror_mode": {
    "name": "ipython",
    "version": 3
   },
   "file_extension": ".py",
   "mimetype": "text/x-python",
   "name": "python",
   "nbconvert_exporter": "python",
   "pygments_lexer": "ipython3",
   "version": "3.7.3"
  }
 },
 "nbformat": 4,
 "nbformat_minor": 2
}
